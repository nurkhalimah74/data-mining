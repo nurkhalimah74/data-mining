{
 "cells": [
  {
   "cell_type": "markdown",
   "metadata": {},
   "source": [
    "#Insight\n",
    "\n",
    "- Tidak ditemukan data duplikat pada data bandung.csv\n",
    "- Terdapat kecenderungan perbedaan harga rumah akibat dari tipe luas tanah, semakin besar luas tanah maka semakin mahal harga rumah tersebut\n",
    "- Terdapat outlier pada tiga data tersebut\n",
    "- Data tersebut tidak berdistribusi normal karena terdapat outlier\n",
    "- Tidak ada missing value pada data tersebut \n",
    "- Dari 100 data tersebut ditemukan Nilai minimal, nilai maksimal, dan mean dari setiap: Harga, LT,LB,KT,KM,KTP,KMP,CARPORT, GARASI, DAN LISTRIK.\n",
    "- Dari 100 data ditemukan data yang paling banyak adalah rumah dengan luas banngunan 42,45,50,67,150,350\n"
   ]
  }
 ],
 "metadata": {
  "kernelspec": {
   "display_name": "Python 3",
   "language": "python",
   "name": "python3"
  },
  "language_info": {
   "codemirror_mode": {
    "name": "ipython",
    "version": 3
   },
   "file_extension": ".py",
   "mimetype": "text/x-python",
   "name": "python",
   "nbconvert_exporter": "python",
   "pygments_lexer": "ipython3",
   "version": "3.7.3"
  }
 },
 "nbformat": 4,
 "nbformat_minor": 2
}
